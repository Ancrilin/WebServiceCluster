{
  "nbformat": 4,
  "nbformat_minor": 0,
  "metadata": {
    "colab": {
      "name": "WebCluster.ipynb",
      "provenance": [],
      "collapsed_sections": []
    },
    "kernelspec": {
      "name": "python3",
      "display_name": "Python 3"
    },
    "accelerator": "GPU"
  },
  "cells": [
    {
      "cell_type": "code",
      "metadata": {
        "id": "cLcvZUGMuxGv",
        "colab_type": "code",
        "colab": {
          "base_uri": "https://localhost:8080/",
          "height": 302
        },
        "outputId": "2e65b224-6bf4-490b-c0e6-e659e9c209ab"
      },
      "source": [
        "!/opt/bin/nvidia-smi"
      ],
      "execution_count": 1,
      "outputs": [
        {
          "output_type": "stream",
          "text": [
            "Mon Mar  2 13:24:52 2020       \n",
            "+-----------------------------------------------------------------------------+\n",
            "| NVIDIA-SMI 418.67       Driver Version: 418.67       CUDA Version: 10.1     |\n",
            "|-------------------------------+----------------------+----------------------+\n",
            "| GPU  Name        Persistence-M| Bus-Id        Disp.A | Volatile Uncorr. ECC |\n",
            "| Fan  Temp  Perf  Pwr:Usage/Cap|         Memory-Usage | GPU-Util  Compute M. |\n",
            "|===============================+======================+======================|\n",
            "|   0  Tesla P100-PCIE...  Off  | 00000000:00:04.0 Off |                    0 |\n",
            "| N/A   33C    P0    26W / 250W |      0MiB / 16280MiB |      0%      Default |\n",
            "+-------------------------------+----------------------+----------------------+\n",
            "                                                                               \n",
            "+-----------------------------------------------------------------------------+\n",
            "| Processes:                                                       GPU Memory |\n",
            "|  GPU       PID   Type   Process name                             Usage      |\n",
            "|=============================================================================|\n",
            "|  No running processes found                                                 |\n",
            "+-----------------------------------------------------------------------------+\n"
          ],
          "name": "stdout"
        }
      ]
    },
    {
      "cell_type": "code",
      "metadata": {
        "id": "RM5OOKbh3TXv",
        "colab_type": "code",
        "colab": {
          "base_uri": "https://localhost:8080/",
          "height": 34
        },
        "outputId": "6fa18d4a-ccc4-4db7-b7c4-bb2a9a81299f"
      },
      "source": [
        "!cd /content/\n",
        "! rm -rf WebServiceCluster\n",
        "!ls"
      ],
      "execution_count": 2,
      "outputs": [
        {
          "output_type": "stream",
          "text": [
            "sample_data\n"
          ],
          "name": "stdout"
        }
      ]
    },
    {
      "cell_type": "code",
      "metadata": {
        "id": "xeHSQz2Rwhh4",
        "colab_type": "code",
        "colab": {
          "base_uri": "https://localhost:8080/",
          "height": 118
        },
        "outputId": "97de7ccd-8d7a-4803-fd2c-426f914ed0ce"
      },
      "source": [
        "!git clone https://github.com/Ancrilin/WebServiceCluster.git"
      ],
      "execution_count": 3,
      "outputs": [
        {
          "output_type": "stream",
          "text": [
            "Cloning into 'WebServiceCluster'...\n",
            "remote: Enumerating objects: 70, done.\u001b[K\n",
            "remote: Counting objects:   1% (1/70)\u001b[K\rremote: Counting objects:   2% (2/70)\u001b[K\rremote: Counting objects:   4% (3/70)\u001b[K\rremote: Counting objects:   5% (4/70)\u001b[K\rremote: Counting objects:   7% (5/70)\u001b[K\rremote: Counting objects:   8% (6/70)\u001b[K\rremote: Counting objects:  10% (7/70)\u001b[K\rremote: Counting objects:  11% (8/70)\u001b[K\rremote: Counting objects:  12% (9/70)\u001b[K\rremote: Counting objects:  14% (10/70)\u001b[K\rremote: Counting objects:  15% (11/70)\u001b[K\rremote: Counting objects:  17% (12/70)\u001b[K\rremote: Counting objects:  18% (13/70)\u001b[K\rremote: Counting objects:  20% (14/70)\u001b[K\rremote: Counting objects:  21% (15/70)\u001b[K\rremote: Counting objects:  22% (16/70)\u001b[K\rremote: Counting objects:  24% (17/70)\u001b[K\rremote: Counting objects:  25% (18/70)\u001b[K\rremote: Counting objects:  27% (19/70)\u001b[K\rremote: Counting objects:  28% (20/70)\u001b[K\rremote: Counting objects:  30% (21/70)\u001b[K\rremote: Counting objects:  31% (22/70)\u001b[K\rremote: Counting objects:  32% (23/70)\u001b[K\rremote: Counting objects:  34% (24/70)\u001b[K\rremote: Counting objects:  35% (25/70)\u001b[K\rremote: Counting objects:  37% (26/70)\u001b[K\rremote: Counting objects:  38% (27/70)\u001b[K\rremote: Counting objects:  40% (28/70)\u001b[K\rremote: Counting objects:  41% (29/70)\u001b[K\rremote: Counting objects:  42% (30/70)\u001b[K\rremote: Counting objects:  44% (31/70)\u001b[K\rremote: Counting objects:  45% (32/70)\u001b[K\rremote: Counting objects:  47% (33/70)\u001b[K\rremote: Counting objects:  48% (34/70)\u001b[K\rremote: Counting objects:  50% (35/70)\u001b[K\rremote: Counting objects:  51% (36/70)\u001b[K\rremote: Counting objects:  52% (37/70)\u001b[K\rremote: Counting objects:  54% (38/70)\u001b[K\rremote: Counting objects:  55% (39/70)\u001b[K\rremote: Counting objects:  57% (40/70)\u001b[K\rremote: Counting objects:  58% (41/70)\u001b[K\rremote: Counting objects:  60% (42/70)\u001b[K\rremote: Counting objects:  61% (43/70)\u001b[K\rremote: Counting objects:  62% (44/70)\u001b[K\rremote: Counting objects:  64% (45/70)\u001b[K\rremote: Counting objects:  65% (46/70)\u001b[K\rremote: Counting objects:  67% (47/70)\u001b[K\rremote: Counting objects:  68% (48/70)\u001b[K\rremote: Counting objects:  70% (49/70)\u001b[K\rremote: Counting objects:  71% (50/70)\u001b[K\rremote: Counting objects:  72% (51/70)\u001b[K\rremote: Counting objects:  74% (52/70)\u001b[K\rremote: Counting objects:  75% (53/70)\u001b[K\rremote: Counting objects:  77% (54/70)\u001b[K\rremote: Counting objects:  78% (55/70)\u001b[K\rremote: Counting objects:  80% (56/70)\u001b[K\rremote: Counting objects:  81% (57/70)\u001b[K\rremote: Counting objects:  82% (58/70)\u001b[K\rremote: Counting objects:  84% (59/70)\u001b[K\rremote: Counting objects:  85% (60/70)\u001b[K\rremote: Counting objects:  87% (61/70)\u001b[K\rremote: Counting objects:  88% (62/70)\u001b[K\rremote: Counting objects:  90% (63/70)\u001b[K\rremote: Counting objects:  91% (64/70)\u001b[K\rremote: Counting objects:  92% (65/70)\u001b[K\rremote: Counting objects:  94% (66/70)\u001b[K\rremote: Counting objects:  95% (67/70)\u001b[K\rremote: Counting objects:  97% (68/70)\u001b[K\rremote: Counting objects:  98% (69/70)\u001b[K\rremote: Counting objects: 100% (70/70)\u001b[K\rremote: Counting objects: 100% (70/70), done.\u001b[K\n",
            "remote: Compressing objects:   2% (1/48)\u001b[K\rremote: Compressing objects:   4% (2/48)\u001b[K\rremote: Compressing objects:   6% (3/48)\u001b[K\rremote: Compressing objects:   8% (4/48)\u001b[K\rremote: Compressing objects:  10% (5/48)\u001b[K\rremote: Compressing objects:  12% (6/48)\u001b[K\rremote: Compressing objects:  14% (7/48)\u001b[K\rremote: Compressing objects:  16% (8/48)\u001b[K\rremote: Compressing objects:  18% (9/48)\u001b[K\rremote: Compressing objects:  20% (10/48)\u001b[K\rremote: Compressing objects:  22% (11/48)\u001b[K\rremote: Compressing objects:  25% (12/48)\u001b[K\rremote: Compressing objects:  27% (13/48)\u001b[K\rremote: Compressing objects:  29% (14/48)\u001b[K\rremote: Compressing objects:  31% (15/48)\u001b[K\rremote: Compressing objects:  33% (16/48)\u001b[K\rremote: Compressing objects:  35% (17/48)\u001b[K\rremote: Compressing objects:  37% (18/48)\u001b[K\rremote: Compressing objects:  39% (19/48)\u001b[K\rremote: Compressing objects:  41% (20/48)\u001b[K\rremote: Compressing objects:  43% (21/48)\u001b[K\rremote: Compressing objects:  45% (22/48)\u001b[K\rremote: Compressing objects:  47% (23/48)\u001b[K\rremote: Compressing objects:  50% (24/48)\u001b[K\rremote: Compressing objects:  52% (25/48)\u001b[K\rremote: Compressing objects:  54% (26/48)\u001b[K\rremote: Compressing objects:  56% (27/48)\u001b[K\rremote: Compressing objects:  58% (28/48)\u001b[K\rremote: Compressing objects:  60% (29/48)\u001b[K\rremote: Compressing objects:  62% (30/48)\u001b[K\rremote: Compressing objects:  64% (31/48)\u001b[K\rremote: Compressing objects:  66% (32/48)\u001b[K\rremote: Compressing objects:  68% (33/48)\u001b[K\rremote: Compressing objects:  70% (34/48)\u001b[K\rremote: Compressing objects:  72% (35/48)\u001b[K\rremote: Compressing objects:  75% (36/48)\u001b[K\rremote: Compressing objects:  77% (37/48)\u001b[K\rremote: Compressing objects:  79% (38/48)\u001b[K\rremote: Compressing objects:  81% (39/48)\u001b[K\rremote: Compressing objects:  83% (40/48)\u001b[K\rremote: Compressing objects:  85% (41/48)\u001b[K\rremote: Compressing objects:  87% (42/48)\u001b[K\rremote: Compressing objects:  89% (43/48)\u001b[K\rremote: Compressing objects:  91% (44/48)\u001b[K\rremote: Compressing objects:  93% (45/48)\u001b[K\rremote: Compressing objects:  95% (46/48)\u001b[K\rremote: Compressing objects:  97% (47/48)\u001b[K\rremote: Compressing objects: 100% (48/48)\u001b[K\rremote: Compressing objects: 100% (48/48), done.\u001b[K\n",
            "remote: Total 71 (delta 33), reused 54 (delta 19), pack-reused 1\u001b[K\n",
            "Unpacking objects:   1% (1/71)   \rUnpacking objects:   2% (2/71)   \rUnpacking objects:   4% (3/71)   \rUnpacking objects:   5% (4/71)   \rUnpacking objects:   7% (5/71)   \rUnpacking objects:   8% (6/71)   \rUnpacking objects:   9% (7/71)   \rUnpacking objects:  11% (8/71)   \rUnpacking objects:  12% (9/71)   \rUnpacking objects:  14% (10/71)   \rUnpacking objects:  15% (11/71)   \rUnpacking objects:  16% (12/71)   \rUnpacking objects:  18% (13/71)   \rUnpacking objects:  19% (14/71)   \rUnpacking objects:  21% (15/71)   \rUnpacking objects:  22% (16/71)   \rUnpacking objects:  23% (17/71)   \rUnpacking objects:  25% (18/71)   \rUnpacking objects:  26% (19/71)   \rUnpacking objects:  28% (20/71)   \rUnpacking objects:  29% (21/71)   \rUnpacking objects:  30% (22/71)   \rUnpacking objects:  32% (23/71)   \rUnpacking objects:  33% (24/71)   \rUnpacking objects:  35% (25/71)   \rUnpacking objects:  36% (26/71)   \rUnpacking objects:  38% (27/71)   \rUnpacking objects:  39% (28/71)   \rUnpacking objects:  40% (29/71)   \rUnpacking objects:  42% (30/71)   \rUnpacking objects:  43% (31/71)   \rUnpacking objects:  45% (32/71)   \rUnpacking objects:  46% (33/71)   \rUnpacking objects:  47% (34/71)   \rUnpacking objects:  49% (35/71)   \rUnpacking objects:  50% (36/71)   \rUnpacking objects:  52% (37/71)   \rUnpacking objects:  53% (38/71)   \rUnpacking objects:  54% (39/71)   \rUnpacking objects:  56% (40/71)   \rUnpacking objects:  57% (41/71)   \rUnpacking objects:  59% (42/71)   \rUnpacking objects:  60% (43/71)   \rUnpacking objects:  61% (44/71)   \rUnpacking objects:  63% (45/71)   \rUnpacking objects:  64% (46/71)   \rUnpacking objects:  66% (47/71)   \rUnpacking objects:  67% (48/71)   \rUnpacking objects:  69% (49/71)   \rUnpacking objects:  70% (50/71)   \rUnpacking objects:  71% (51/71)   \rUnpacking objects:  73% (52/71)   \rUnpacking objects:  74% (53/71)   \rUnpacking objects:  76% (54/71)   \rUnpacking objects:  77% (55/71)   \rUnpacking objects:  78% (56/71)   \rUnpacking objects:  80% (57/71)   \rUnpacking objects:  81% (58/71)   \rUnpacking objects:  83% (59/71)   \rUnpacking objects:  84% (60/71)   \rUnpacking objects:  85% (61/71)   \rUnpacking objects:  87% (62/71)   \rUnpacking objects:  88% (63/71)   \rUnpacking objects:  90% (64/71)   \rUnpacking objects:  91% (65/71)   \rUnpacking objects:  92% (66/71)   \rUnpacking objects:  94% (67/71)   \rUnpacking objects:  95% (68/71)   \rUnpacking objects:  97% (69/71)   \rUnpacking objects:  98% (70/71)   \rUnpacking objects: 100% (71/71)   \rUnpacking objects: 100% (71/71), done.\n"
          ],
          "name": "stdout"
        }
      ]
    },
    {
      "cell_type": "code",
      "metadata": {
        "id": "6Y612eD5wnjh",
        "colab_type": "code",
        "colab": {
          "base_uri": "https://localhost:8080/",
          "height": 34
        },
        "outputId": "41ae2a6c-4317-46c6-c121-541e47a54386"
      },
      "source": [
        "cd WebServiceCluster"
      ],
      "execution_count": 4,
      "outputs": [
        {
          "output_type": "stream",
          "text": [
            "/content/WebServiceCluster\n"
          ],
          "name": "stdout"
        }
      ]
    },
    {
      "cell_type": "code",
      "metadata": {
        "id": "IeZXZxVvvKnC",
        "colab_type": "code",
        "colab": {
          "base_uri": "https://localhost:8080/",
          "height": 406
        },
        "outputId": "09dcfe55-efe5-4aa5-9cb0-aba33bab0e47"
      },
      "source": [
        "import os\n",
        "os.makedirs('data', exist_ok=True)\n",
        "os.chdir('data')\n",
        "!wget https://picture-1256680697.cos.ap-guangzhou.myqcloud.com/github/WebCluster/20ClassesRawData_API_cleanTag.csv\n",
        "!wget https://picture-1256680697.cos.ap-guangzhou.myqcloud.com/github/WebCluster/WebNet_df.csv"
      ],
      "execution_count": 5,
      "outputs": [
        {
          "output_type": "stream",
          "text": [
            "--2020-03-02 13:25:04--  https://picture-1256680697.cos.ap-guangzhou.myqcloud.com/github/WebCluster/20ClassesRawData_API_cleanTag.csv\n",
            "Resolving picture-1256680697.cos.ap-guangzhou.myqcloud.com (picture-1256680697.cos.ap-guangzhou.myqcloud.com)... 211.159.131.23, 123.207.131.114, 123.207.131.115, ...\n",
            "Connecting to picture-1256680697.cos.ap-guangzhou.myqcloud.com (picture-1256680697.cos.ap-guangzhou.myqcloud.com)|211.159.131.23|:443... connected.\n",
            "HTTP request sent, awaiting response... 200 OK\n",
            "Length: 4453382 (4.2M) [text/csv]\n",
            "Saving to: ‘20ClassesRawData_API_cleanTag.csv’\n",
            "\n",
            "20ClassesRawData_AP 100%[===================>]   4.25M   919KB/s    in 12s     \n",
            "\n",
            "2020-03-02 13:25:21 (353 KB/s) - ‘20ClassesRawData_API_cleanTag.csv’ saved [4453382/4453382]\n",
            "\n",
            "--2020-03-02 13:25:22--  https://picture-1256680697.cos.ap-guangzhou.myqcloud.com/github/WebCluster/WebNet_df.csv\n",
            "Resolving picture-1256680697.cos.ap-guangzhou.myqcloud.com (picture-1256680697.cos.ap-guangzhou.myqcloud.com)... 123.207.131.115, 139.199.41.140, 119.29.47.254, ...\n",
            "Connecting to picture-1256680697.cos.ap-guangzhou.myqcloud.com (picture-1256680697.cos.ap-guangzhou.myqcloud.com)|123.207.131.115|:443... connected.\n",
            "HTTP request sent, awaiting response... 200 OK\n",
            "Length: 178604875 (170M) [text/csv]\n",
            "Saving to: ‘WebNet_df.csv’\n",
            "\n",
            "WebNet_df.csv       100%[===================>] 170.33M  1.47MB/s    in 3m 58s  \n",
            "\n",
            "2020-03-02 13:29:21 (734 KB/s) - ‘WebNet_df.csv’ saved [178604875/178604875]\n",
            "\n"
          ],
          "name": "stdout"
        }
      ]
    },
    {
      "cell_type": "code",
      "metadata": {
        "id": "MveIvHWSzkSr",
        "colab_type": "code",
        "colab": {
          "base_uri": "https://localhost:8080/",
          "height": 34
        },
        "outputId": "85859539-dc30-4321-f216-72c87dcda921"
      },
      "source": [
        "cd .."
      ],
      "execution_count": 6,
      "outputs": [
        {
          "output_type": "stream",
          "text": [
            "/content/WebServiceCluster\n"
          ],
          "name": "stdout"
        }
      ]
    },
    {
      "cell_type": "code",
      "metadata": {
        "id": "O4IRQ18mzpyd",
        "colab_type": "code",
        "colab": {
          "base_uri": "https://localhost:8080/",
          "height": 269
        },
        "outputId": "f91f20f4-390c-479f-ee92-528060b6398a"
      },
      "source": [
        "!pip install urlextract\n",
        "import nltk\n",
        "nltk.download('stopwords')\n",
        "nltk.download('punkt')\n",
        "nltk.download('averaged_perceptron_tagger')\n",
        "nltk.download('wordnet')"
      ],
      "execution_count": 7,
      "outputs": [
        {
          "output_type": "stream",
          "text": [
            "Requirement already satisfied: urlextract in /usr/local/lib/python3.6/dist-packages (0.14.0)\n",
            "Requirement already satisfied: uritools in /usr/local/lib/python3.6/dist-packages (from urlextract) (3.0.0)\n",
            "Requirement already satisfied: idna in /usr/local/lib/python3.6/dist-packages (from urlextract) (2.8)\n",
            "Requirement already satisfied: appdirs in /usr/local/lib/python3.6/dist-packages (from urlextract) (1.4.3)\n",
            "[nltk_data] Downloading package stopwords to /root/nltk_data...\n",
            "[nltk_data]   Package stopwords is already up-to-date!\n",
            "[nltk_data] Downloading package punkt to /root/nltk_data...\n",
            "[nltk_data]   Package punkt is already up-to-date!\n",
            "[nltk_data] Downloading package averaged_perceptron_tagger to\n",
            "[nltk_data]     /root/nltk_data...\n",
            "[nltk_data]   Package averaged_perceptron_tagger is already up-to-\n",
            "[nltk_data]       date!\n",
            "[nltk_data] Downloading package wordnet to /root/nltk_data...\n",
            "[nltk_data]   Package wordnet is already up-to-date!\n"
          ],
          "name": "stdout"
        },
        {
          "output_type": "execute_result",
          "data": {
            "text/plain": [
              "True"
            ]
          },
          "metadata": {
            "tags": []
          },
          "execution_count": 7
        }
      ]
    },
    {
      "cell_type": "code",
      "metadata": {
        "id": "GssH8u3Vw_Wq",
        "colab_type": "code",
        "colab": {
          "base_uri": "https://localhost:8080/",
          "height": 1000
        },
        "outputId": "823d87d9-2b07-4fc5-aff7-a3ef9c8b73e2"
      },
      "source": [
        "!python run.py \\\n",
        "--dataset=data \\\n",
        "--doc_vec_size=500 \\\n",
        "--graph_vec_size=200 \\\n",
        "--doc_n_epoch=128 \\\n",
        "--weight=0.7 \\\n",
        "--graph_n_epoch=1 \\\n",
        "--max_iter=300 \\\n",
        "--output_dir=output \\\n",
        "--reset \\\n",
        "--train \\\n",
        "--relationship_graph \\"
      ],
      "execution_count": 8,
      "outputs": [
        {
          "output_type": "stream",
          "text": [
            "2020-03-02 13:29:29,136 - logger.logger - INFO - device cuda\n",
            "2020-03-02 13:29:29,136 - logger.logger - INFO - {'delta': 0.5, 'alpha': 0.1, 'weight': 0.7, 'tol': 0.0001, 'dim': 512, 'n_cluster': 20, 'max_iter': 300, 'batch_size': 32, 'graph_lr': 0.001, 'doc_n_epoch': 128, 'graph_n_epoch': 1, 'dataset': 'data', 'doc_vec_size': 500, 'graph_vec_size': 200, 'min_time': 1, 'doc_datafile': '20ClassesRawData_API_cleanTag.csv', 'graph_datafile': 'WebNet_df.csv', 'doc_vec_savepath': 'doc_vec.npy', 'graph_vec_savepath': 'graph_vec.npy', 'output_dir': 'output', 'reset': True, 'relationship_graph': True, 'train': True, 'dev': False, 'test': False}\n",
            "2020-03-02 13:29:29,182 - logger.logger - INFO - load dataset...\n",
            "100% 8482/8482 [00:53<00:00, 163.74it/s]\n",
            "2020-03-02 13:30:23,128 - logger.logger - INFO - train doc2vec...\n",
            "100% 8482/8482 [00:00<00:00, 469688.51it/s]\n",
            "2020-03-02 13:33:36,201 - logger.logger - INFO - save doc2vec vector in output/doc_vec.npy\n",
            "2020-03-02 13:33:36,456 - logger.logger - INFO - save doc2vec model in output/dov2vec.model\n",
            "/usr/local/lib/python3.6/dist-packages/smart_open/smart_open_lib.py:402: UserWarning: This function is deprecated, use smart_open.open instead. See the migration notes for details: https://github.com/RaRe-Technologies/smart_open/blob/master/README.rst#migrating-to-the-new-open-function\n",
            "  'See the migration notes for details: %s' % _MIGRATION_NOTES_URL\n",
            "2020-03-02 13:33:37,544 - logger.logger - INFO - doc vector shape (8482, 500)\n",
            "preparing data...\n",
            "positive_number_of_nodes: 8477\n",
            "positive_number_of_edges: 4132828\n",
            "negative_number_of_nodes: 496\n",
            "negative_number_of_edges: 2116\n",
            "getting triplets...\n",
            "2020-03-02 13:34:21,580 - logger.logger - INFO - SINE(\n",
            "  (embedding): Embedding(8478, 200)\n",
            "  (layerl1): Linear(in_features=200, out_features=512, bias=False)\n",
            "  (layerl2): Linear(in_features=200, out_features=512, bias=False)\n",
            "  (layer2): Linear(in_features=512, out_features=1, bias=False)\n",
            "  (tanh): Tanh()\n",
            ")\n",
            "  0% 0/362756 [00:00<?, ?it/s]2020-03-02 13:34:22,576 - logger.logger - INFO - total_batch 0 batch_loss 4.688383102416992\n",
            "  3% 9987/362756 [00:52<28:04, 209.45it/s]2020-03-02 13:35:14,326 - logger.logger - INFO - total_batch 10000 batch_loss 0.3216582238674164\n",
            "  6% 19981/362756 [01:44<35:22, 161.46it/s]2020-03-02 13:36:06,545 - logger.logger - INFO - total_batch 20000 batch_loss 0.18532581627368927\n",
            "  8% 29998/362756 [02:37<27:30, 201.62it/s]2020-03-02 13:36:58,603 - logger.logger - INFO - total_batch 30000 batch_loss 0.13854925334453583\n",
            " 11% 39987/362756 [03:29<28:16, 190.26it/s]2020-03-02 13:37:50,747 - logger.logger - INFO - total_batch 40000 batch_loss 0.09107425808906555\n",
            " 14% 49988/362756 [04:21<30:15, 172.28it/s]2020-03-02 13:38:42,989 - logger.logger - INFO - total_batch 50000 batch_loss 0.16750718653202057\n",
            " 17% 59990/362756 [05:13<25:07, 200.88it/s]2020-03-02 13:39:35,593 - logger.logger - INFO - total_batch 60000 batch_loss 0.15699662268161774\n",
            " 19% 69991/362756 [06:06<25:58, 187.80it/s]2020-03-02 13:40:28,508 - logger.logger - INFO - total_batch 70000 batch_loss 0.12723517417907715\n",
            " 22% 79998/362756 [06:59<26:49, 175.65it/s]2020-03-02 13:41:21,578 - logger.logger - INFO - total_batch 80000 batch_loss 0.1740722507238388\n",
            " 25% 89993/362756 [07:53<23:40, 191.99it/s]2020-03-02 13:42:15,476 - logger.logger - INFO - total_batch 90000 batch_loss 0.12871383130550385\n",
            " 28% 99994/362756 [08:47<21:36, 202.75it/s]2020-03-02 13:43:08,970 - logger.logger - INFO - total_batch 100000 batch_loss 0.16404366493225098\n",
            " 30% 109990/362756 [09:39<22:03, 190.97it/s]2020-03-02 13:44:01,294 - logger.logger - INFO - total_batch 110000 batch_loss 0.18751640617847443\n",
            " 33% 119981/362756 [10:31<19:17, 209.68it/s]2020-03-02 13:44:53,577 - logger.logger - INFO - total_batch 120000 batch_loss 0.13008277118206024\n",
            " 36% 129985/362756 [11:24<18:49, 206.10it/s]2020-03-02 13:45:45,963 - logger.logger - INFO - total_batch 130000 batch_loss 0.10477455705404282\n",
            " 39% 139982/362756 [12:16<19:04, 194.58it/s]2020-03-02 13:46:38,202 - logger.logger - INFO - total_batch 140000 batch_loss 0.18337352573871613\n",
            " 41% 149994/362756 [13:09<17:40, 200.70it/s]2020-03-02 13:47:31,383 - logger.logger - INFO - total_batch 150000 batch_loss 0.19510631263256073\n",
            " 44% 159991/362756 [14:02<17:56, 188.28it/s]2020-03-02 13:48:24,318 - logger.logger - INFO - total_batch 160000 batch_loss 0.11111874878406525\n",
            " 47% 169997/362756 [14:55<18:25, 174.32it/s]2020-03-02 13:49:16,876 - logger.logger - INFO - total_batch 170000 batch_loss 0.15833735466003418\n",
            " 50% 179981/362756 [15:48<15:58, 190.63it/s]2020-03-02 13:50:09,981 - logger.logger - INFO - total_batch 180000 batch_loss 0.24857178330421448\n",
            " 52% 189991/362756 [16:41<14:59, 192.06it/s]2020-03-02 13:51:02,711 - logger.logger - INFO - total_batch 190000 batch_loss 0.1926860511302948\n",
            " 55% 200000/362756 [17:34<15:07, 179.34it/s]2020-03-02 13:51:56,020 - logger.logger - INFO - total_batch 200000 batch_loss 0.11404712498188019\n",
            " 58% 209990/362756 [18:27<13:05, 194.46it/s]2020-03-02 13:52:48,842 - logger.logger - INFO - total_batch 210000 batch_loss 0.09100906550884247\n",
            " 61% 219987/362756 [19:20<12:19, 192.95it/s]2020-03-02 13:53:42,393 - logger.logger - INFO - total_batch 220000 batch_loss 0.19349488615989685\n",
            " 63% 229983/362756 [20:15<11:40, 189.54it/s]2020-03-02 13:54:37,231 - logger.logger - INFO - total_batch 230000 batch_loss 0.1907515674829483\n",
            " 66% 239982/362756 [21:09<10:22, 197.10it/s]2020-03-02 13:55:31,347 - logger.logger - INFO - total_batch 240000 batch_loss 0.18886297941207886\n",
            " 69% 249984/362756 [22:03<09:30, 197.67it/s]2020-03-02 13:56:24,991 - logger.logger - INFO - total_batch 250000 batch_loss 0.1642773300409317\n",
            " 72% 259982/362756 [22:56<09:06, 188.03it/s]2020-03-02 13:57:18,155 - logger.logger - INFO - total_batch 260000 batch_loss 0.18417127430438995\n",
            " 74% 269992/362756 [23:49<07:54, 195.68it/s]2020-03-02 13:58:10,777 - logger.logger - INFO - total_batch 270000 batch_loss 0.18895667791366577\n",
            " 77% 279989/362756 [24:40<07:10, 192.44it/s]2020-03-02 13:59:02,135 - logger.logger - INFO - total_batch 280000 batch_loss 0.18229582905769348\n",
            " 80% 289986/362756 [25:33<06:16, 193.45it/s]2020-03-02 13:59:54,693 - logger.logger - INFO - total_batch 290000 batch_loss 0.1750500649213791\n",
            " 83% 299991/362756 [26:24<05:06, 205.00it/s]2020-03-02 14:00:46,559 - logger.logger - INFO - total_batch 300000 batch_loss 0.16405180096626282\n",
            " 85% 309992/362756 [27:17<05:53, 149.46it/s]2020-03-02 14:01:38,829 - logger.logger - INFO - total_batch 310000 batch_loss 0.1416989117860794\n",
            " 88% 319996/362756 [28:09<03:29, 204.44it/s]2020-03-02 14:02:31,320 - logger.logger - INFO - total_batch 320000 batch_loss 0.22785544395446777\n",
            " 91% 329997/362756 [29:02<02:53, 188.27it/s]2020-03-02 14:03:24,169 - logger.logger - INFO - total_batch 330000 batch_loss 0.1458853930234909\n",
            " 94% 339994/362756 [29:55<01:59, 191.11it/s]2020-03-02 14:04:16,832 - logger.logger - INFO - total_batch 340000 batch_loss 0.13414303958415985\n",
            " 96% 349994/362756 [30:47<01:03, 200.80it/s]2020-03-02 14:05:09,050 - logger.logger - INFO - total_batch 350000 batch_loss 0.1349889189004898\n",
            " 99% 359990/362756 [31:38<00:13, 200.53it/s]2020-03-02 14:06:00,580 - logger.logger - INFO - total_batch 360000 batch_loss 0.0815669447183609\n",
            "100% 362756/362756 [31:53<00:00, 189.56it/s]\n",
            "2020-03-02 14:06:15,224 - logger.logger - INFO - Epoch [1/1] loss 5.731342315673828\n",
            "<Figure size 640x480 with 1 Axes>\n",
            "<Figure size 640x480 with 1 Axes>\n",
            "/content/WebServiceCluster/model/SINE.py:72: UserWarning: To copy construct from a tensor, it is recommended to use sourceTensor.clone().detach() or sourceTensor.clone().detach().requires_grad_(True), rather than torch.tensor(sourceTensor).\n",
            "  return self.embedding(torch.tensor(node_id)).detach().cpu().numpy()\n",
            " 11% 34/300 [03:08<24:33,  5.54s/it]end time 03-02 14.10\n",
            "/usr/local/lib/python3.6/dist-packages/sklearn/utils/linear_assignment_.py:22: FutureWarning: The linear_assignment_ module is deprecated in 0.21 and will be removed from 0.23. Use scipy.optimize.linear_sum_assignment instead.\n",
            "  FutureWarning)\n",
            "/usr/local/lib/python3.6/dist-packages/sklearn/utils/linear_assignment_.py:128: FutureWarning: The linear_assignment function is deprecated in 0.21 and will be removed from 0.23. Use scipy.optimize.linear_sum_assignment instead.\n",
            "  FutureWarning)\n",
            "[[ 0  2]\n",
            " [ 1 17]\n",
            " [ 2  6]\n",
            " [ 3 18]\n",
            " [ 4 11]\n",
            " [ 5 13]\n",
            " [ 6  1]\n",
            " [ 7  9]\n",
            " [ 8  0]\n",
            " [ 9 14]\n",
            " [10  5]\n",
            " [11 19]\n",
            " [12 10]\n",
            " [13 12]\n",
            " [14 15]\n",
            " [15  4]\n",
            " [16  3]\n",
            " [17  7]\n",
            " [18 16]\n",
            " [19  8]]\n",
            "2020-03-02 14:10:04,168 - logger.logger - INFO - recall 0.44154939681780786 precision 0.6374732558756553\n",
            "Exception ignored in: <bound method tqdm.__del__ of  11% 34/300 [03:14<24:33,  5.54s/it]>\n",
            "Traceback (most recent call last):\n",
            "  File \"/usr/local/lib/python3.6/dist-packages/tqdm/_tqdm.py\", line 931, in __del__\n",
            "    self.close()\n",
            "  File \"/usr/local/lib/python3.6/dist-packages/tqdm/_tqdm.py\", line 1133, in close\n",
            "    self._decr_instances(self)\n",
            "  File \"/usr/local/lib/python3.6/dist-packages/tqdm/_tqdm.py\", line 496, in _decr_instances\n",
            "    cls.monitor.exit()\n",
            "  File \"/usr/local/lib/python3.6/dist-packages/tqdm/_monitor.py\", line 52, in exit\n",
            "    self.join()\n",
            "  File \"/usr/lib/python3.6/threading.py\", line 1053, in join\n",
            "    raise RuntimeError(\"cannot join current thread\")\n",
            "RuntimeError: cannot join current thread\n"
          ],
          "name": "stdout"
        }
      ]
    }
  ]
}